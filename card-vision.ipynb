{
 "cells": [
  {
   "cell_type": "code",
   "execution_count": 1,
   "id": "5bc4adb0-5fd4-40c8-921e-acfd92aa7333",
   "metadata": {},
   "outputs": [],
   "source": [
    "path = './dataset/'"
   ]
  },
  {
   "cell_type": "code",
   "execution_count": 2,
   "id": "a1eb0b75-8587-4b6a-abbd-dd6435f99ef5",
   "metadata": {},
   "outputs": [],
   "source": [
    "from torch.utils.data import Dataset, DataLoader\n",
    "from PIL import Image\n",
    "import os\n",
    "\n",
    "class CardsDataset(Dataset):\n",
    "    def __init__(self, directory, split='train', transforms=None):\n",
    "        super().__init__()\n",
    "\n",
    "        self.transforms = transforms\n",
    "        self.images = []\n",
    "        self.classes = set()\n",
    "        \n",
    "        for root, dirs, files in os.walk(os.path.join(directory, split)):\n",
    "            for filename in files:\n",
    "                if filename.lower().endswith(('.png', 'jpeg', 'jpg')):\n",
    "                    label = os.path.basename(root)\n",
    "                    self.classes.add(label)\n",
    "                    self.images.append((os.path.join(root, filename), label))\n",
    "                    \n",
    "        self.cls2idx = {cls: i for i, cls in enumerate(sorted(self.classes))}\n",
    "        self.idx2cls = {i: cls for cls, i in self.cls2idx.items()}\n",
    "        self.length = len(self.images)\n",
    "\n",
    "        if self.length == 0:\n",
    "            raise RuntimeError(f\"No images found in {os.path.join(directory, split)}\")\n",
    "\n",
    "    def __getitem__(self, idx):\n",
    "        image_path, label = self.images[idx]\n",
    "        image = Image.open(image_path).convert('RGB')\n",
    "        if self.transforms:\n",
    "            image = self.transforms(image)\n",
    "\n",
    "        label_idx = self.cls2idx[label]\n",
    "        return image, label_idx\n",
    "\n",
    "    def __len__(self):\n",
    "        return self.length\n",
    "\n",
    "    def idx_2_cls(self, idx):\n",
    "        return self.idx2cls[idx]"
   ]
  },
  {
   "cell_type": "code",
   "execution_count": 18,
   "id": "427ddbef-4ee9-4b29-b907-f36e339b0192",
   "metadata": {},
   "outputs": [],
   "source": [
    "#ПОПРОБОВАТЬ ИНИЦИАЛИЗАЦИЮ И ДОБАВИТЬ ДРОПАУТ"
   ]
  },
  {
   "cell_type": "code",
   "execution_count": null,
   "id": "1da45fcc-4469-4751-b4f1-d5677be50159",
   "metadata": {},
   "outputs": [],
   "source": []
  }
 ],
 "metadata": {
  "kernelspec": {
   "display_name": "Python (cv)",
   "language": "python",
   "name": "cv"
  },
  "language_info": {
   "codemirror_mode": {
    "name": "ipython",
    "version": 3
   },
   "file_extension": ".py",
   "mimetype": "text/x-python",
   "name": "python",
   "nbconvert_exporter": "python",
   "pygments_lexer": "ipython3",
   "version": "3.9.23"
  }
 },
 "nbformat": 4,
 "nbformat_minor": 5
}
